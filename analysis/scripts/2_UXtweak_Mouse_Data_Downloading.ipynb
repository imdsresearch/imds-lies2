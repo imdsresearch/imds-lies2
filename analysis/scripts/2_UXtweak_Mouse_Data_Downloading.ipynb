{
 "cells": [
  {
   "cell_type": "code",
   "execution_count": null,
   "metadata": {},
   "outputs": [],
   "source": [
    "import logging\n",
    "from datetime import datetime\n",
    "\n",
    "current_file_name = \"2_UXtweak_Mouse_Data_Downloading\"\n",
    "\n",
    "dt_string = datetime.now().strftime(\"%Y%m%d_%H%M%S\")\n",
    "log_file = f\"logs/{current_file_name}/{dt_string}.log\"\n",
    "logging.basicConfig(level=logging.INFO, filename=log_file,filemode=\"w\", format=\"%(asctime)s %(levelname)s %(message)s\")\n",
    "\n",
    "# https://blog.sentry.io/logging-in-python-a-developers-guide/"
   ]
  },
  {
   "cell_type": "code",
   "execution_count": null,
   "metadata": {},
   "outputs": [],
   "source": [
    "import urllib.request, json \n",
    "import pandas as pd\n",
    "import os"
   ]
  },
  {
   "cell_type": "code",
   "execution_count": null,
   "metadata": {},
   "outputs": [],
   "source": [
    "from helpers.constants import *\n",
    "from helpers.utils import *"
   ]
  },
  {
   "cell_type": "code",
   "execution_count": null,
   "metadata": {},
   "outputs": [],
   "source": [
    "pd.set_option(\"display.max_columns\", 500)"
   ]
  },
  {
   "cell_type": "code",
   "execution_count": null,
   "metadata": {},
   "outputs": [],
   "source": [
    "with open(\"tokens/Smrecek_ReplayToken.txt\", \"r\") as file:\n",
    "    token = file.read().rstrip()\n",
    "\n",
    "logging.info(\"Token loaded\")"
   ]
  },
  {
   "cell_type": "code",
   "execution_count": null,
   "metadata": {},
   "outputs": [],
   "source": [
    "path_to_sessions = \"data\\\\0_Raw_Data\\\\uxtweak_sessions.csv\"\n",
    "sessions = pd.read_csv(path_to_sessions, delimiter=\";\")\n",
    "\n",
    "logging.info(\"Sessions loaded\")\n",
    "logging.info(f\"Sessions shape: {sessions.shape}\")"
   ]
  },
  {
   "cell_type": "code",
   "execution_count": null,
   "metadata": {},
   "outputs": [],
   "source": [
    "sessions.head()"
   ]
  },
  {
   "cell_type": "code",
   "execution_count": null,
   "metadata": {},
   "outputs": [],
   "source": [
    "sessions = sessions[sessions[\"Useable\"] == True]\n",
    "sessions = sessions[sessions[\"Baked Downloaded\"] == False]\n",
    "sessions = sessions[sessions[\"Raw Downloaded\"] == False]\n",
    "sessions = sessions[[\"Variant\", \"Respondent\", \"Session\"]]\n",
    "\n",
    "logging.info(\"Sessions filtered\")\n",
    "logging.info(f\"Sessions shape: {sessions.shape}\")"
   ]
  },
  {
   "cell_type": "code",
   "execution_count": null,
   "metadata": {},
   "outputs": [],
   "source": [
    "sessions.head()"
   ]
  },
  {
   "cell_type": "code",
   "execution_count": null,
   "metadata": {},
   "outputs": [],
   "source": [
    "sessions_fg = sessions[sessions[\"Variant\"] == \"FG\"][[\"Respondent\", \"Session\"]].values.tolist()\n",
    "sessions_fg[:5]"
   ]
  },
  {
   "cell_type": "code",
   "execution_count": null,
   "metadata": {},
   "outputs": [],
   "source": [
    "sessions_h = sessions[sessions[\"Variant\"] == \"H\"][[\"Respondent\", \"Session\"]].values.tolist()\n",
    "sessions_h[:5]"
   ]
  },
  {
   "cell_type": "code",
   "execution_count": null,
   "metadata": {},
   "outputs": [],
   "source": [
    "@timer\n",
    "def baked_data_downloader(sessions, token, path):\n",
    "  for count, session in enumerate(sessions):\n",
    "    print(\"Task {} of {}\".format(count + 1, len(sessions)))\n",
    "    logging.info(f\"Task {count + 1} of {len(sessions)}\")\n",
    "\n",
    "    os.mkdir(f\"{path}\\\\respondent_{session[0]}\")\n",
    "    logging.info(f\"Directory created: {path}\\\\respondent_{session[0]}\")\n",
    "\n",
    "    url_address = \"https://replay.uxtweak.com/api/v1/data/stream/\" + session[1] + \"?token=\" + token\n",
    "    logging.info(f\"Downloading from url: {url_address}\")\n",
    "\n",
    "    with urllib.request.urlopen(url_address) as url:\n",
    "      data = json.loads(url.read().decode())\n",
    "\n",
    "      path_to_baked = f\"{path}\\\\respondent_{session[0]}\\\\respondent_{session[0]}_baked_{session[1]}.json\"\n",
    "      with open(path_to_baked, \"w\") as outfile:\n",
    "        json.dump(data, outfile)\n",
    "        \n",
    "      print(\"   Path to file: \" + path_to_baked)\n",
    "      logging.info(f\"Path to file: {path_to_baked}\")"
   ]
  },
  {
   "cell_type": "code",
   "execution_count": null,
   "metadata": {},
   "outputs": [],
   "source": [
    "@timer\n",
    "def raw_data_downloader(sessions, token, path):\n",
    "  for count, session in enumerate(sessions):\n",
    "      print(\"Task {} of {}\".format(count + 1, len(sessions)))\n",
    "      logging.info(f\"Task {count + 1} of {len(sessions)}\")\n",
    "\n",
    "      path_to_baked = f\"{path}\\\\respondent_{session[0]}\\\\respondent_{session[0]}_baked_{session[1]}.json\"\n",
    "      logging.info(f\"Session: {session}, Path to baked: {path_to_baked}\")\n",
    "\n",
    "      with open(path_to_baked) as loadfile:\n",
    "          baked_data = json.load(loadfile)\n",
    "          \n",
    "          print(\"  Number of pageviews: \", len(baked_data['pageviews']))\n",
    "          logging.info(f\"Number of pageviews: {len(baked_data['pageviews'])}\")\n",
    "          \n",
    "          for pageview_count, pageview in enumerate(baked_data['pageviews']):\n",
    "              logging.info(f\"Task {count + 1} of {len(sessions)}, Pageview {pageview_count + 1} of {len(baked_data['pageviews'])}\")\n",
    "\n",
    "              projectId = pageview['projectId']\n",
    "              sessionId = pageview['sessionId']\n",
    "              pageviewId = pageview['id']\n",
    "\n",
    "              url_address = \"https://replay.uxtweak.com/api/v1/data/events/\" + projectId + \"/\" + sessionId + \"/\" + pageviewId + \"?token=\" + token\n",
    "              logging.info(f\"Downloading from url: {url_address}\")\n",
    "\n",
    "              with urllib.request.urlopen(url_address) as url:\n",
    "                raw_data = json.loads(url.read().decode())\n",
    "\n",
    "                path_to_raw = f\"{path}\\\\respondent_{session[0]}\\\\respondent_{session[0]}_raw_pageview_{pageview_count + 1}_{pageviewId}.json\"\n",
    "\n",
    "                with open(path_to_raw, 'w') as outfile:\n",
    "                  json.dump(raw_data, outfile)\n",
    "                print(\"      Path to file: \" + path_to_raw)\n",
    "                logging.info(f\"Path to file: {path_to_raw}\")"
   ]
  },
  {
   "cell_type": "code",
   "execution_count": null,
   "metadata": {},
   "outputs": [],
   "source": [
    "folder_path_fg = f\"data\\\\2_UXtweak_Mouse_Data_Downloading\\\\FG\"\n",
    "folder_path_h = f\"data\\\\2_UXtweak_Mouse_Data_Downloading\\\\H\"\n",
    "\n",
    "if not os.path.exists(folder_path_fg): \n",
    "    os.mkdir(folder_path_fg)\n",
    "if not os.path.exists(folder_path_h): \n",
    "    os.mkdir(folder_path_h)\n",
    "\n",
    "logging.info(f\"Directories created: {folder_path_fg}, {folder_path_h}\")"
   ]
  },
  {
   "cell_type": "code",
   "execution_count": null,
   "metadata": {},
   "outputs": [],
   "source": [
    "baked_data_downloader(sessions_fg, token, folder_path_fg)\n",
    "logging.warning(\"Baked data downloader for FG sessions finished\")"
   ]
  },
  {
   "cell_type": "code",
   "execution_count": null,
   "metadata": {},
   "outputs": [],
   "source": [
    "baked_data_downloader(sessions_h, token, folder_path_h)\n",
    "logging.warning(\"Baked data downloader for H sessions finished\")"
   ]
  },
  {
   "cell_type": "code",
   "execution_count": null,
   "metadata": {},
   "outputs": [],
   "source": [
    "raw_data_downloader(sessions_fg, token, folder_path_fg)\n",
    "logging.warning(\"Raw data downloader for FG sessions finished\")"
   ]
  },
  {
   "cell_type": "code",
   "execution_count": null,
   "metadata": {},
   "outputs": [],
   "source": [
    "raw_data_downloader(sessions_h, token, folder_path_h)\n",
    "logging.warning(\"Raw data downloader for H sessions finished\")"
   ]
  }
 ],
 "metadata": {
  "kernelspec": {
   "display_name": ".venv",
   "language": "python",
   "name": "python3"
  },
  "language_info": {
   "codemirror_mode": {
    "name": "ipython",
    "version": 3
   },
   "file_extension": ".py",
   "mimetype": "text/x-python",
   "name": "python",
   "nbconvert_exporter": "python",
   "pygments_lexer": "ipython3",
   "version": "3.10.7"
  }
 },
 "nbformat": 4,
 "nbformat_minor": 2
}
