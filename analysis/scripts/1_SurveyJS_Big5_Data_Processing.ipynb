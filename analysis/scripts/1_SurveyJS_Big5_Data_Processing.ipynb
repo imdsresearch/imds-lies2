{
 "cells": [
  {
   "cell_type": "code",
   "execution_count": null,
   "metadata": {},
   "outputs": [],
   "source": [
    "import logging\n",
    "from datetime import datetime\n",
    "\n",
    "current_file_name = \"1_SurveyJS_Big5_Data_Processing\"\n",
    "\n",
    "dt_string = datetime.now().strftime(\"%Y%m%d_%H%M%S\")\n",
    "log_file = f\"logs/{current_file_name}/{dt_string}.log\"\n",
    "logging.basicConfig(level=logging.INFO, filename=log_file,filemode=\"w\", format=\"%(asctime)s %(levelname)s %(message)s\")\n",
    "\n",
    "# https://blog.sentry.io/logging-in-python-a-developers-guide/"
   ]
  },
  {
   "cell_type": "code",
   "execution_count": null,
   "metadata": {},
   "outputs": [],
   "source": [
    "import pandas as pd\n",
    "import numpy as np\n",
    "import matplotlib.pyplot as plt\n",
    "import seaborn as sns\n",
    "import os\n",
    "import sys"
   ]
  },
  {
   "cell_type": "code",
   "execution_count": null,
   "metadata": {},
   "outputs": [],
   "source": [
    "from helpers.questions import *\n",
    "from helpers.constants import *"
   ]
  },
  {
   "cell_type": "code",
   "execution_count": null,
   "metadata": {},
   "outputs": [],
   "source": [
    "pd.set_option('display.max_columns', 500)"
   ]
  },
  {
   "cell_type": "code",
   "execution_count": null,
   "metadata": {},
   "outputs": [],
   "source": [
    "# Read excel sheet results\n",
    "survey_fg = pd.read_excel(wd + '\\\\3 SurveyJS Results\\\\DP-Final-1-FG.xlsx')\n",
    "survey_h = pd.read_excel(wd + '\\\\3 SurveyJS Results\\\\DP-Final-1-H.xlsx')\n",
    "\n",
    "survey_fg_pilot = pd.read_excel(wd_pilot + '\\\\3 SurveyJS Results\\\\DP-Pilot-1-FG.xlsx')\n",
    "survey_h_pilot = pd.read_excel(wd_pilot + '\\\\3 SurveyJS Results\\\\DP-Pilot-1-H.xlsx')\n",
    "\n",
    "logging.info(\"SurveyJS results read in\")"
   ]
  },
  {
   "cell_type": "code",
   "execution_count": null,
   "metadata": {},
   "outputs": [],
   "source": [
    "print(len(survey_fg), len(survey_h), len(survey_fg_pilot), len(survey_h_pilot))"
   ]
  },
  {
   "cell_type": "code",
   "execution_count": null,
   "metadata": {},
   "outputs": [],
   "source": [
    "# Concatenate pilot and main data\n",
    "survey_fg = pd.concat([survey_fg, survey_fg_pilot])\n",
    "survey_h = pd.concat([survey_h, survey_h_pilot])"
   ]
  },
  {
   "cell_type": "code",
   "execution_count": null,
   "metadata": {},
   "outputs": [],
   "source": [
    "print(len(survey_fg), len(survey_h))"
   ]
  },
  {
   "cell_type": "code",
   "execution_count": null,
   "metadata": {},
   "outputs": [],
   "source": [
    "def clean_survey(survey_out, glob_big5_questions, glob_all_columns, glob_normal_columns, glob_reversed_columns, glob_normal_likert, glob_reverse_likert):\n",
    "    survey = survey_out.copy(deep=True)\n",
    "\n",
    "    # In column names, replace question text from glob_big5_questions with question number from glob_all_columns\n",
    "    for i in range(len(glob_big5_questions)):\n",
    "        survey.columns = survey.columns.str.replace(glob_big5_questions[i], glob_all_columns[i])\n",
    "    \n",
    "    # Remove 'Choose honestly whether each answer is a Lie, a Half-truth, or a Truth -' from column names\n",
    "    survey.columns = survey.columns.str.replace('Choose honestly whether each answer is a Lie, a Half-truth, or a Truth - ', '')\n",
    "    # Replace  - Answer with _A\n",
    "    survey.columns = survey.columns.str.replace(' - Answer', '_a')\n",
    "    # Replace  - Ground Truth with _gt\n",
    "    survey.columns = survey.columns.str.replace(' - Ground Truth', '_gt')\n",
    "\n",
    "    # Remove columns starting with 'instructions' and 'elaboration'\n",
    "    survey = survey.loc[:,~survey.columns.str.startswith('instructions')]\n",
    "    survey = survey.loc[:,~survey.columns.str.startswith('elaboration')]\n",
    "\n",
    "    # Order by Submited\n",
    "    survey = survey.sort_values(by='Submitted')\n",
    "\n",
    "    # Compare each question column with its _a column and thwow error if they are not the same\n",
    "    for i in range(len(glob_all_columns)):\n",
    "        if not survey[glob_all_columns[i]].equals(survey[glob_all_columns[i] + '_a']):\n",
    "            print(\"Error in column \" + glob_all_columns[i])\n",
    "            print(survey[glob_all_columns[i]], survey[glob_all_columns[i] + '_a'])\n",
    "            # Throw error\n",
    "            raise ValueError('Columns are not the same')\n",
    "        \n",
    "    # Remove _a columns\n",
    "    survey = survey.loc[:,~survey.columns.str.endswith('_a')]\n",
    "\n",
    "    # Replace text answers with numbers\n",
    "    survey.update(survey[list(glob_normal_columns)].apply(lambda col: col.map(glob_normal_likert)))\n",
    "    survey.update(survey[list(glob_reversed_columns)].apply(lambda col: col.map(glob_reverse_likert)))\n",
    "\n",
    "    # Replace text answers in _gt column with numbers\n",
    "    all_gt_columns = [col + '_gt' for col in glob_all_columns]\n",
    "    survey.update(survey[list(all_gt_columns)].apply(lambda col: col.map(glob_gt_map)))\n",
    "\n",
    "    # Submitted column to datetime without timezone\n",
    "    survey['Submitted'] = pd.to_datetime(survey['Submitted']).dt.tz_localize(None)\n",
    "\n",
    "    # Order by Submitted\n",
    "    survey = survey.sort_values(by='Submitted')\n",
    "\n",
    "    # Remove summission between 2024-01-10 00:00:00 and 2024-01-25 00:00:00 as they are test submissions\n",
    "    survey = survey[(survey['Submitted'] < '2024-01-10 00:00:00') | (survey['Submitted'] > '2024-01-25 00:00:00')]\n",
    "\n",
    "    return survey\n",
    "\n",
    "survey_fg_clean = clean_survey(survey_fg, glob_big5_questions, glob_all_columns, glob_normal_columns, glob_reversed_columns, glob_normal_likert, glob_reverse_likert)\n",
    "survey_h_clean = clean_survey(survey_h, glob_big5_questions, glob_all_columns, glob_normal_columns, glob_reversed_columns, glob_normal_likert, glob_reverse_likert)\n",
    "\n",
    "logging.info(\"SurveyJS results cleaned\")\n",
    "logging.info(\"Survey FG: \" + str(survey_fg_clean.shape))\n",
    "logging.info(\"Survey H: \" + str(survey_h_clean.shape))"
   ]
  },
  {
   "cell_type": "code",
   "execution_count": null,
   "metadata": {},
   "outputs": [],
   "source": [
    "print(len(survey_fg_clean), len(survey_h_clean))"
   ]
  },
  {
   "cell_type": "code",
   "execution_count": null,
   "metadata": {},
   "outputs": [],
   "source": [
    "survey_h_clean"
   ]
  },
  {
   "cell_type": "code",
   "execution_count": null,
   "metadata": {},
   "outputs": [],
   "source": [
    "bfi2_e_sociability_columns = [\"bfi1\", \"rbfi16\", \"rbfi31\", \"bfi46\"]\n",
    "bfi2_e_assertiveness_columns = [\"bfi6\", \"bfi21\", \"rbfi36\", \"rbfi51\"]\n",
    "bfi2_e_energy_level_columns = [\"rbfi11\", \"rbfi26\", \"bfi41\", \"bfi56\"]\n",
    "bfi2_a_compassion_columns = [\"bfi2\", \"rbfi17\", \"bfi32\", \"rbfi47\"]\n",
    "bfi2_a_respectfulness_columns = [\"bfi7\", \"rbfi22\", \"rbfi37\", \"bfi52\"]\n",
    "bfi2_a_trust_columns = [\"rbfi12\", \"bfi27\", \"rbfi42\", \"bfi57\"]\n",
    "bfi2_c_organization_columns = [\"rbfi3\", \"bfi18\", \"bfi33\", \"rbfi48\"]\n",
    "bfi2_c_productiveness_columns = [\"rbfi8\", \"rbfi23\", \"bfi38\", \"bfi53\"]\n",
    "bfi2_c_responsibility_columns = [\"bfi13\", \"rbfi28\", \"bfi43\", \"rbfi58\"]\n",
    "bfi2_n_anxiety_columns = [\"rbfi4\", \"bfi19\", \"bfi34\", \"rbfi49\"]\n",
    "bfi2_n_depression_columns = [\"rbfi9\", \"rbfi24\", \"bfi39\", \"bfi54\"]\n",
    "bfi2_n_emotional_volatility_columns = [\"bfi14\", \"rbfi29\", \"rbfi44\", \"bfi59\"]\n",
    "bfi2_o_intellectual_curiosity_columns = [\"bfi10\", \"rbfi25\", \"bfi40\", \"rbfi55\"]\n",
    "bfi2_o_aesthetic_sensitivity_columns = [\"rbfi5\", \"bfi20\", \"bfi35\", \"rbfi50\"]\n",
    "bfi2_o_creative_imagination_columns = [\"bfi15\", \"rbfi30\", \"rbfi45\", \"bfi60\"]\n",
    "\n",
    "bfi2_e_columns = bfi2_e_sociability_columns + bfi2_e_assertiveness_columns + bfi2_e_energy_level_columns\n",
    "bfi2_a_columns = bfi2_a_compassion_columns + bfi2_a_respectfulness_columns + bfi2_a_trust_columns\n",
    "bfi2_c_columns = bfi2_c_organization_columns + bfi2_c_productiveness_columns + bfi2_c_responsibility_columns\n",
    "bfi2_n_columns = bfi2_n_anxiety_columns + bfi2_n_depression_columns + bfi2_n_emotional_volatility_columns\n",
    "bfi2_o_columns = bfi2_o_intellectual_curiosity_columns + bfi2_o_aesthetic_sensitivity_columns + bfi2_o_creative_imagination_columns"
   ]
  },
  {
   "cell_type": "code",
   "execution_count": null,
   "metadata": {},
   "outputs": [],
   "source": [
    "def evaluate_big5(clean_survey_out, glob_all_columns):\n",
    "    clean_survey = clean_survey_out.copy(deep=True)\n",
    "\n",
    "    clean_survey.insert(0, \"total_points\", clean_survey.loc[:, glob_all_columns].sum(axis=1))\n",
    "    clean_survey.insert(1, \"mean_points\", clean_survey.loc[:, glob_all_columns].mean(axis=1))\n",
    "\n",
    "    clean_survey.insert(2, \"bfi2_e_sociability\", clean_survey.loc[:,  bfi2_e_sociability_columns].mean(axis=1))\n",
    "    clean_survey.insert(3, \"bfi2_e_assertiveness\", clean_survey.loc[:,  bfi2_e_assertiveness_columns].mean(axis=1))\n",
    "    clean_survey.insert(4, \"bfi2_e_energy_level\", clean_survey.loc[:,  bfi2_e_energy_level_columns].mean(axis=1))\n",
    "    clean_survey.insert(5, \"bfi2_a_compassion\", clean_survey.loc[:,  bfi2_a_compassion_columns].mean(axis=1))\n",
    "    clean_survey.insert(6, \"bfi2_a_respectfulness\", clean_survey.loc[:,  bfi2_a_respectfulness_columns].mean(axis=1))\n",
    "    clean_survey.insert(7, \"bfi2_a_trust\", clean_survey.loc[:,  bfi2_a_trust_columns].mean(axis=1))\n",
    "    clean_survey.insert(8, \"bfi2_c_organization\", clean_survey.loc[:,  bfi2_c_organization_columns].mean(axis=1))\n",
    "    clean_survey.insert(9, \"bfi2_c_productiveness\", clean_survey.loc[:,  bfi2_c_productiveness_columns].mean(axis=1))\n",
    "    clean_survey.insert(10, \"bfi2_c_responsibility\", clean_survey.loc[:,  bfi2_c_responsibility_columns].mean(axis=1))\n",
    "    clean_survey.insert(11, \"bfi2_n_anxiety\", clean_survey.loc[:,  bfi2_n_anxiety_columns].mean(axis=1))\n",
    "    clean_survey.insert(12, \"bfi2_n_depression\", clean_survey.loc[:,  bfi2_n_depression_columns].mean(axis=1))\n",
    "    clean_survey.insert(13, \"bfi2_n_emotional_volatility\", clean_survey.loc[:,  bfi2_n_emotional_volatility_columns].mean(axis=1))\n",
    "    clean_survey.insert(14, \"bfi2_o_intellectual_curiosity\", clean_survey.loc[:,  bfi2_o_intellectual_curiosity_columns].mean(axis=1))\n",
    "    clean_survey.insert(15, \"bfi2_o_aesthetic_sensitivity\", clean_survey.loc[:,  bfi2_o_aesthetic_sensitivity_columns].mean(axis=1))\n",
    "    clean_survey.insert(16, \"bfi2_o_creative_imagination\", clean_survey.loc[:,  bfi2_o_creative_imagination_columns].mean(axis=1))\n",
    "\n",
    "    clean_survey.insert(2, \"bfi2_e\", clean_survey.loc[:,  bfi2_e_columns].mean(axis=1))\n",
    "    clean_survey.insert(3, \"bfi2_a\", clean_survey.loc[:,  bfi2_a_columns].mean(axis=1))\n",
    "    clean_survey.insert(4, \"bfi2_c\", clean_survey.loc[:,  bfi2_c_columns].mean(axis=1))\n",
    "    clean_survey.insert(5, \"bfi2_n\", clean_survey.loc[:,  bfi2_n_columns].mean(axis=1))\n",
    "    clean_survey.insert(6, \"bfi2_o\", clean_survey.loc[:,  bfi2_o_columns].mean(axis=1))\n",
    "\n",
    "    clean_survey.insert(2, \"mean_points_check\", clean_survey.loc[:, [\"bfi2_e\", \"bfi2_a\", \"bfi2_c\", \"bfi2_n\", \"bfi2_o\"]].mean(axis=1))\n",
    "\n",
    "    # Add occurences of '1', '0.5' and '0' in ground truth columns\n",
    "    all_gt_columns = [col + '_gt' for col in glob_all_columns]\n",
    "    clean_survey.insert(2, \"gt_lies\", clean_survey[all_gt_columns].eq(1).sum(axis=1))\n",
    "    clean_survey.insert(3, \"gt_half_truths\", clean_survey[all_gt_columns].eq(0.5).sum(axis=1))\n",
    "    clean_survey.insert(4, \"gt_truths\", clean_survey[all_gt_columns].eq(0).sum(axis=1))\n",
    "    \n",
    "    return clean_survey\n",
    "\n",
    "evaluated_fg = evaluate_big5(survey_fg_clean, glob_all_columns)\n",
    "evaluated_h = evaluate_big5(survey_h_clean, glob_all_columns)\n",
    "\n",
    "logging.info(\"Big5 evaluated\")\n",
    "logging.info(\"Evaluated FG: \" + str(evaluated_fg.shape))\n",
    "logging.info(\"Evaluated H: \" + str(evaluated_h.shape))"
   ]
  },
  {
   "cell_type": "code",
   "execution_count": null,
   "metadata": {},
   "outputs": [],
   "source": [
    "evaluated_h"
   ]
  },
  {
   "cell_type": "code",
   "execution_count": null,
   "metadata": {},
   "outputs": [],
   "source": [
    "def merge_fg_h(evaluated_fg_out, evaluated_h_out):\n",
    "    evaluated_fg = evaluated_fg_out.copy(deep=True)\n",
    "    evaluated_h = evaluated_h_out.copy(deep=True)\n",
    "\n",
    "    evaluated_fg.insert(0, \"group\", 'FG')\n",
    "    evaluated_h.insert(0, \"group\", 'H')\n",
    "\n",
    "    merged = pd.concat([evaluated_fg, evaluated_h])\n",
    "\n",
    "    return merged\n",
    "\n",
    "data = merge_fg_h(evaluated_fg, evaluated_h)\n",
    "\n",
    "logging.info(\"Data merged\")\n",
    "logging.info(\"Data: \" + str(data.shape))"
   ]
  },
  {
   "cell_type": "code",
   "execution_count": null,
   "metadata": {},
   "outputs": [],
   "source": [
    "# Save the data\n",
    "output_file = f'data\\\\{current_file_name}\\\\{current_file_name}_data.csv'\n",
    "data.to_csv(output_file, index=False)\n",
    "\n",
    "logging.info(\"Data saved to \" + output_file)"
   ]
  },
  {
   "cell_type": "code",
   "execution_count": null,
   "metadata": {},
   "outputs": [],
   "source": [
    "data"
   ]
  },
  {
   "cell_type": "code",
   "execution_count": null,
   "metadata": {},
   "outputs": [],
   "source": [
    "print(f\"Lies: {data['gt_lies'].sum()}\")\n",
    "print(f\"Half-truths: {data['gt_half_truths'].sum()}\")\n",
    "print(f\"Truths: {data['gt_truths'].sum()}\")"
   ]
  },
  {
   "cell_type": "code",
   "execution_count": null,
   "metadata": {},
   "outputs": [],
   "source": [
    "def plot_boxplots(data):\n",
    "    # Plot boxplots for each big5 trait and group next to each other\n",
    "\n",
    "    # Create figure with 5 subplots\n",
    "    fig, axes = plt.subplots(1, 5, figsize=(15, 5))\n",
    "\n",
    "    # Create boxplots for each big5 trait and group\n",
    "    sns.boxplot(ax=axes[0], x='group', y='bfi2_e', data=data)\n",
    "    sns.boxplot(ax=axes[1], x='group', y='bfi2_a', data=data)\n",
    "    sns.boxplot(ax=axes[2], x='group', y='bfi2_c', data=data)\n",
    "    sns.boxplot(ax=axes[3], x='group', y='bfi2_n', data=data)\n",
    "    sns.boxplot(ax=axes[4], x='group', y='bfi2_o', data=data)\n",
    "\n",
    "    # Set titles\n",
    "    axes[0].set_title('Extraversion')\n",
    "    axes[1].set_title('Agreeableness')\n",
    "    axes[2].set_title('Conscientiousness')\n",
    "    axes[3].set_title('Neuroticism')\n",
    "    axes[4].set_title('Openness')\n",
    "\n",
    "plot_boxplots(data)"
   ]
  },
  {
   "cell_type": "code",
   "execution_count": null,
   "metadata": {},
   "outputs": [],
   "source": [
    "def plot_boxplots_facets(data):\n",
    "    # Plot boxplots for each big5 trait and group next to each other\n",
    "\n",
    "    # Create figure with 5 rows and 3 columns\n",
    "    fig, axes = plt.subplots(5, 3, figsize=(15, 20))\n",
    "\n",
    "    # Create boxplots for each facet of big5 and group\n",
    "    sns.boxplot(ax=axes[0, 0], x=\"group\", y=\"bfi2_e_sociability\", data=data)\n",
    "    sns.boxplot(ax=axes[0, 1], x=\"group\", y=\"bfi2_e_assertiveness\", data=data)\n",
    "    sns.boxplot(ax=axes[0, 2], x=\"group\", y=\"bfi2_e_energy_level\", data=data)\n",
    "    sns.boxplot(ax=axes[1, 0], x=\"group\", y=\"bfi2_a_compassion\", data=data)\n",
    "    sns.boxplot(ax=axes[1, 1], x=\"group\", y=\"bfi2_a_respectfulness\", data=data)\n",
    "    sns.boxplot(ax=axes[1, 2], x=\"group\", y=\"bfi2_a_trust\", data=data)\n",
    "    sns.boxplot(ax=axes[2, 0], x=\"group\", y=\"bfi2_c_organization\", data=data)\n",
    "    sns.boxplot(ax=axes[2, 1], x=\"group\", y=\"bfi2_c_productiveness\", data=data)\n",
    "    sns.boxplot(ax=axes[2, 2], x=\"group\", y=\"bfi2_c_responsibility\", data=data)\n",
    "    sns.boxplot(ax=axes[3, 0], x=\"group\", y=\"bfi2_n_anxiety\", data=data)\n",
    "    sns.boxplot(ax=axes[3, 1], x=\"group\", y=\"bfi2_n_depression\", data=data)\n",
    "    sns.boxplot(ax=axes[3, 2], x=\"group\", y=\"bfi2_n_emotional_volatility\", data=data)\n",
    "    sns.boxplot(ax=axes[4, 0], x=\"group\", y=\"bfi2_o_intellectual_curiosity\", data=data)\n",
    "    sns.boxplot(ax=axes[4, 1], x=\"group\", y=\"bfi2_o_aesthetic_sensitivity\", data=data)\n",
    "    sns.boxplot(ax=axes[4, 2], x=\"group\", y=\"bfi2_o_creative_imagination\", data=data)\n",
    "\n",
    "    # Set titles for each facet\n",
    "    axes[0, 0].set_title(\"Extraversion - Sociability\")\n",
    "    axes[0, 1].set_title(\"Extraversion - Assertiveness\")\n",
    "    axes[0, 2].set_title(\"Extraversion - Energy level\")\n",
    "    axes[1, 0].set_title(\"Agreeableness - Compassion\")\n",
    "    axes[1, 1].set_title(\"Agreeableness - Respectfulness\")\n",
    "    axes[1, 2].set_title(\"Agreeableness - Trust\")\n",
    "    axes[2, 0].set_title(\"Conscientiousness - Organization\")\n",
    "    axes[2, 1].set_title(\"Conscientiousness - Productiveness\")\n",
    "    axes[2, 2].set_title(\"Conscientiousness - Responsibility\")\n",
    "    axes[3, 0].set_title(\"Neuroticism - Anxiety\")\n",
    "    axes[3, 1].set_title(\"Neuroticism - Depression\")\n",
    "    axes[3, 2].set_title(\"Neuroticism - Emotional volatility\")\n",
    "    axes[4, 0].set_title(\"Openness - Intellectual curiosity\")\n",
    "    axes[4, 1].set_title(\"Openness - Aesthetic sensitivity\")\n",
    "    axes[4, 2].set_title(\"Openness - Creative imagination\")\n",
    "\n",
    "plot_boxplots_facets(data)"
   ]
  },
  {
   "cell_type": "code",
   "execution_count": null,
   "metadata": {},
   "outputs": [],
   "source": [
    "def plot_gt_counts(data):\n",
    "    # Plot barplot for each big5 trait and group next to each other\n",
    "\n",
    "    # Create figure with 5 subplots\n",
    "    fig, axes = plt.subplots(1, 3, figsize=(15, 5))\n",
    "\n",
    "    # Create barplot for each big5 trait and group\n",
    "    sns.barplot(ax=axes[0], x='group', y='gt_lies', data=data)\n",
    "    sns.barplot(ax=axes[1], x='group', y='gt_half_truths', data=data)\n",
    "    sns.barplot(ax=axes[2], x='group', y='gt_truths', data=data)\n",
    "\n",
    "    # Set titles\n",
    "    axes[0].set_title('Lies')\n",
    "    axes[1].set_title('Half-truths')\n",
    "    axes[2].set_title('Truths')\n",
    "\n",
    "plot_gt_counts(data)"
   ]
  },
  {
   "cell_type": "code",
   "execution_count": null,
   "metadata": {},
   "outputs": [],
   "source": [
    "def plot_ground_truths(data_out):\n",
    "    # Each big5 answer has a truth value (Lie, Half-truth, Truth), (0, 0.5, 1) respectively\n",
    "    # Plot occurences of Ground Truths values for each list of big5 questions\n",
    "\n",
    "    data = data_out.copy(deep=True)\n",
    "\n",
    "    # Ground truth columns for each big5 trait\n",
    "    bfi2_e_gt = [x + '_gt' for x in bfi2_e_columns]\n",
    "    bfi2_a_gt = [x + '_gt' for x in bfi2_a_columns]\n",
    "    bfi2_c_gt = [x + '_gt' for x in bfi2_c_columns]\n",
    "    bfi2_n_gt = [x + '_gt' for x in bfi2_n_columns]\n",
    "    bfi2_o_gt = [x + '_gt' for x in bfi2_o_columns]\n",
    "\n",
    "    data.insert(0, \"bfi2_e_gt\", data.loc[:, bfi2_e_gt].mean(axis=1))\n",
    "    data.insert(0, \"bfi2_a_gt\", data.loc[:, bfi2_a_gt].mean(axis=1))\n",
    "    data.insert(0, \"bfi2_c_gt\", data.loc[:, bfi2_c_gt].mean(axis=1))\n",
    "    data.insert(0, \"bfi2_n_gt\", data.loc[:, bfi2_n_gt].mean(axis=1))\n",
    "    data.insert(0, \"bfi2_o_gt\", data.loc[:, bfi2_o_gt].mean(axis=1))\n",
    "\n",
    "    # Create figure with 5 subplots\n",
    "    fig, axes = plt.subplots(1, 5, figsize=(15, 5))\n",
    "\n",
    "    # Create boxplots for each big5 trait and group\n",
    "    sns.boxplot(ax=axes[0], x='group', y='bfi2_e_gt', data=data)\n",
    "    sns.boxplot(ax=axes[1], x='group', y='bfi2_a_gt', data=data)\n",
    "    sns.boxplot(ax=axes[2], x='group', y='bfi2_c_gt', data=data)\n",
    "    sns.boxplot(ax=axes[3], x='group', y='bfi2_n_gt', data=data)\n",
    "    sns.boxplot(ax=axes[4], x='group', y='bfi2_o_gt', data=data)\n",
    "\n",
    "    # Set titles\n",
    "    axes[0].set_title('Extraversion')\n",
    "    axes[1].set_title('Agreeableness')\n",
    "    axes[2].set_title('Conscientiousness')\n",
    "    axes[3].set_title('Neuroticism')\n",
    "    axes[4].set_title('Openness')\n",
    "\n",
    "plot_ground_truths(data)\n"
   ]
  },
  {
   "cell_type": "code",
   "execution_count": null,
   "metadata": {},
   "outputs": [],
   "source": [
    "def stats_ground_truths_in_verbal_elaborations(data_out):\n",
    "    data = data_out.copy(deep=True)\n",
    "\n",
    "    print(len(data))\n",
    "\n",
    "    elaboration_columns = ['rbfi4_gt',\n",
    "                        'rbfi8_gt',\n",
    "                        'bfi15_gt',\n",
    "                        'bfi18_gt',\n",
    "                        'rbfi30_gt',\n",
    "                        'bfi32_gt',\n",
    "                        'bfi39_gt',\n",
    "                        'bfi41_gt',\n",
    "                        'rbfi51_gt',\n",
    "                        'bfi52_gt']\n",
    "\n",
    "    data[elaboration_columns] = data[elaboration_columns].replace(0.5, 1)     \n",
    "\n",
    "    print(data[elaboration_columns].sum())\n",
    "    print(data[elaboration_columns].sum().sum())\n",
    "\n",
    "\n",
    "stats_ground_truths_in_verbal_elaborations(data)"
   ]
  }
 ],
 "metadata": {
  "kernelspec": {
   "display_name": ".venv",
   "language": "python",
   "name": "python3"
  },
  "language_info": {
   "codemirror_mode": {
    "name": "ipython",
    "version": 3
   },
   "file_extension": ".py",
   "mimetype": "text/x-python",
   "name": "python",
   "nbconvert_exporter": "python",
   "pygments_lexer": "ipython3",
   "version": "3.10.7"
  }
 },
 "nbformat": 4,
 "nbformat_minor": 2
}
