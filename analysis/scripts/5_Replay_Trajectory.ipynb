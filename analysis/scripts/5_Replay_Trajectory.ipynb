{
 "cells": [
  {
   "cell_type": "code",
   "execution_count": null,
   "metadata": {},
   "outputs": [],
   "source": [
    "import logging\n",
    "from datetime import datetime\n",
    "\n",
    "current_file_name = \"5_Replay_Trajectory\"\n",
    "\n",
    "dt_string = datetime.now().strftime(\"%Y%m%d_%H%M%S\")\n",
    "log_file = f\"logs/{current_file_name}/{dt_string}.log\"\n",
    "logging.basicConfig(level=logging.INFO, filename=log_file,filemode=\"w\", format=\"%(asctime)s %(levelname)s %(message)s\")\n",
    "\n",
    "# https://blog.sentry.io/logging-in-python-a-developers-guide/"
   ]
  },
  {
   "cell_type": "code",
   "execution_count": null,
   "metadata": {},
   "outputs": [],
   "source": [
    "import pandas as pd\n",
    "import numpy as np\n",
    "import matplotlib.pyplot as plt\n",
    "import seaborn as sns\n",
    "import os\n",
    "import sys\n",
    "\n",
    "import plotly.express as px\n",
    "import plotly.graph_objects as go"
   ]
  },
  {
   "cell_type": "code",
   "execution_count": null,
   "metadata": {},
   "outputs": [],
   "source": [
    "from helpers.questions import *\n",
    "from helpers.constants import *\n",
    "from helpers.pages import *"
   ]
  },
  {
   "cell_type": "code",
   "execution_count": null,
   "metadata": {},
   "outputs": [],
   "source": [
    "pd.set_option('display.max_columns', 500)"
   ]
  },
  {
   "cell_type": "code",
   "execution_count": null,
   "metadata": {},
   "outputs": [],
   "source": [
    "def get_trajecotires_from_csv(csv_df, pages):\n",
    "    page_names = pages.keys()\n",
    "\n",
    "    csv_dict = {}\n",
    "\n",
    "    for page_name in page_names:\n",
    "        page = csv_df[csv_df[\"page_name\"] == page_name]\n",
    "        csv_dict[page_name] = page\n",
    "\n",
    "    return csv_dict"
   ]
  },
  {
   "cell_type": "code",
   "execution_count": null,
   "metadata": {},
   "outputs": [],
   "source": [
    "def exctract_trajectories_from_interactions(path, pages):\n",
    "    # Traverse through all files in the directory\n",
    "    folders = os.listdir(path)\n",
    "    \n",
    "    interactions_dict = {}\n",
    "\n",
    "    for folder in folders:\n",
    "        files = os.listdir(path + \"\\\\\" + folder)\n",
    "        for file in files:\n",
    "            if file.endswith(\".csv\"):\n",
    "                csv_df = pd.read_csv(path + \"\\\\\" + folder + \"\\\\\" + file)\n",
    "\n",
    "                # Get number from the folder name\n",
    "                number = folder.split(\"_\")[1]\n",
    "                answers_dict = get_trajecotires_from_csv(csv_df, pages)\n",
    "                interactions_dict[number] = answers_dict\n",
    "    return interactions_dict\n",
    "                "
   ]
  },
  {
   "cell_type": "code",
   "execution_count": null,
   "metadata": {},
   "outputs": [],
   "source": [
    "path_fg = 'data\\\\3_UXtweak_Mouse_Data_Processing\\\\FG'\n",
    "path_h = 'data\\\\3_UXtweak_Mouse_Data_Processing\\\\H'\n",
    "\n",
    "extracted_fg = exctract_trajectories_from_interactions(path_fg, pages)\n",
    "extracted_fg[\"group\"] = \"FG\"\n",
    "\n",
    "extracted_h = exctract_trajectories_from_interactions(path_h, pages)\n",
    "extracted_h[\"group\"] = \"H\""
   ]
  },
  {
   "cell_type": "code",
   "execution_count": null,
   "metadata": {},
   "outputs": [],
   "source": [
    "extracted_fg[\"26\"][\"page_1\"]"
   ]
  },
  {
   "cell_type": "code",
   "execution_count": null,
   "metadata": {},
   "outputs": [],
   "source": [
    "def get_trajectory_from_page(page_df):\n",
    "    page_df = page_df[[\"x\", \"y\", \"accurate_timestamp\", \"type\"]]\n",
    "    return page_df"
   ]
  },
  {
   "cell_type": "code",
   "execution_count": null,
   "metadata": {},
   "outputs": [],
   "source": [
    "def get_widt_and_height(page_df):\n",
    "    return page_df[\"pageview_screenWidth\"].iloc[0], page_df[\"pageview_screenHeight\"].iloc[0]"
   ]
  },
  {
   "cell_type": "code",
   "execution_count": null,
   "metadata": {},
   "outputs": [],
   "source": [
    "def normalize_time(page_df):\n",
    "    start_time = page_df[\"accurate_timestamp\"].iloc[0]\n",
    "    page_df[\"accurate_timestamp\"] = page_df[\"accurate_timestamp\"] - start_time\n",
    "    return page_df"
   ]
  },
  {
   "cell_type": "code",
   "execution_count": null,
   "metadata": {},
   "outputs": [],
   "source": [
    "page = extracted_fg[\"26\"][\"page_5\"]"
   ]
  },
  {
   "cell_type": "code",
   "execution_count": null,
   "metadata": {},
   "outputs": [],
   "source": [
    "width, height = get_widt_and_height(page)\n",
    "page_df = get_trajectory_from_page(page)\n",
    "page_df = normalize_time(page_df)"
   ]
  },
  {
   "cell_type": "code",
   "execution_count": null,
   "metadata": {},
   "outputs": [],
   "source": [
    "# Recalculate height - correct height is screen height - y\n",
    "page_df[\"y\"] = height - page_df[\"y\"]"
   ]
  },
  {
   "cell_type": "code",
   "execution_count": null,
   "metadata": {},
   "outputs": [],
   "source": [
    "# Draw the trajectory of the mouse on the page using plotly express\n",
    "# Use screen width and height as max x and y axis\n",
    "# Use x, y, accurate_timestamp as the data\n",
    "# Make it an animation over time\n",
    "\n",
    "clicks_df = page_df[page_df[\"type\"] == \"click\"]\n",
    "\n",
    "page_df[\"Sekundy\"] = page_df[\"accurate_timestamp\"] / 1000\n",
    "\n",
    "# Create the scatter plot\n",
    "fig = px.scatter(page_df, x='x', y='y', color='Sekundy', range_x=[0, width], range_y=[0, height], color_continuous_scale='Bluered')\n",
    "\n",
    "# Update layout to set the size and disable axis labels\n",
    "fig.update_layout(\n",
    "    xaxis_title=None,  # Disable x-axis label\n",
    "    yaxis_title=None,  # Disable y-axis label\n",
    "    xaxis=dict(tickfont=dict(size=16)),  # Set font size of x-axis ticks\n",
    "    yaxis=dict(tickfont=dict(size=16)),  # Set font size of y-axis ticks\n",
    "    legend=dict(font=dict(size=16), x=0.05, y=0.95)  # Set font size of legend and position it inside the plot\n",
    ")\n",
    "\n",
    "# Customize the color gradient\n",
    "fig.update_traces(marker=dict(colorscale='Bluered'))\n",
    "\n",
    "# Add title\n",
    "fig.update_layout(title='Vizualizácia trajektórie pohybu myšou participanta FG 26 na obrazovke 5', title_x=0.5, title_font=dict(size=24))\n",
    "\n",
    "# Add big red points from clicks_df\n",
    "fig.add_trace(go.Scatter(\n",
    "    x=clicks_df['x'],\n",
    "    y=clicks_df['y'],\n",
    "    mode='markers',\n",
    "    marker=dict(color='green', size=15),\n",
    "    name='Kliknutie'\n",
    "))\n",
    "\n",
    "# Tighten the layout\n",
    "fig.update_layout(margin=dict(l=0, r=0, b=0, t=40))\n",
    "\n",
    "# Show the plot\n",
    "fig.show()"
   ]
  },
  {
   "cell_type": "code",
   "execution_count": null,
   "metadata": {},
   "outputs": [],
   "source": [
    "# Make animation\n",
    "fig = px.scatter(page_df, x='x', y='y', animation_frame='accurate_timestamp', range_x=[0, width], range_y=[0, height])\n",
    "fig.show()"
   ]
  },
  {
   "cell_type": "code",
   "execution_count": null,
   "metadata": {},
   "outputs": [],
   "source": [
    "# Add difference column to the dataframe between timestamps\n",
    "page_df[\"diff\"] = page_df[\"accurate_timestamp\"].diff()\n",
    "# Calculate mean and median diff\n",
    "print(page_df[\"diff\"].mean())\n",
    "print(page_df[\"diff\"].median())"
   ]
  },
  {
   "cell_type": "code",
   "execution_count": null,
   "metadata": {},
   "outputs": [],
   "source": [
    "# Encode the type column to be boolean (click = 1, move = 0), name it as click\n",
    "page_df[\"click\"] = page_df[\"type\"].apply(lambda x: 1 if x == \"click\" else 0)\n",
    "page_df = page_df.drop(columns=[\"type\", \"diff\"])"
   ]
  },
  {
   "cell_type": "code",
   "execution_count": null,
   "metadata": {},
   "outputs": [],
   "source": [
    "page_df"
   ]
  },
  {
   "cell_type": "code",
   "execution_count": null,
   "metadata": {},
   "outputs": [],
   "source": [
    "def normalize_trajectory(page_df, time_interval):\n",
    "    \"\"\"\n",
    "    Normalize the trajectory data to have uniform time intervals and interpolate missing points.\n",
    "\n",
    "    Args:\n",
    "    df (pd.DataFrame): DataFrame containing columns 'x', 'y', and 'accurate_timestamp' in milliseconds.\n",
    "    time_interval (int): Desired time interval in milliseconds between points.\n",
    "\n",
    "    Returns:\n",
    "    pd.DataFrame: DataFrame with normalized and interpolated trajectory data.\n",
    "    \"\"\"\n",
    "\n",
    "    df = page_df.copy(deep=True)\n",
    "\n",
    "    # Set 'accurate_timestamp' as the index\n",
    "    df.set_index('accurate_timestamp', inplace=True)\n",
    "\n",
    "    # Convert the index to datetime (this facilitates resampling)\n",
    "    df.index = pd.to_datetime(df.index, unit='ms')\n",
    "\n",
    "    # Resample the DataFrame at the specified time interval and interpolate\n",
    "    df_resampled = df.resample(f'{time_interval}ms').mean()  # 'mean' is a placeholder to allow resampling\n",
    "    df_interpolated = df_resampled.interpolate(method='linear')\n",
    "\n",
    "    # Convert the datetime index back to integer timestamps\n",
    "    df_interpolated.index = df_interpolated.index.astype(np.int64) // 10**6  # Convert back to milliseconds\n",
    "\n",
    "    return df_interpolated.reset_index()\n"
   ]
  },
  {
   "cell_type": "code",
   "execution_count": null,
   "metadata": {},
   "outputs": [],
   "source": [
    "page_df_interpolated = normalize_trajectory(page_df, 100)"
   ]
  },
  {
   "cell_type": "code",
   "execution_count": null,
   "metadata": {},
   "outputs": [],
   "source": [
    "page_df_interpolated"
   ]
  },
  {
   "cell_type": "code",
   "execution_count": null,
   "metadata": {},
   "outputs": [],
   "source": [
    "# Convert ms to seconds\n",
    "page_df_interpolated[\"seconds\"] = page_df_interpolated[\"accurate_timestamp\"] / 1000\n",
    "\n",
    "# Make animation\n",
    "fig = px.scatter(page_df_interpolated, x='x', y='y', animation_frame='seconds', range_x=[0, width], range_y=[0, height])\n",
    "fig.show()"
   ]
  }
 ],
 "metadata": {
  "kernelspec": {
   "display_name": ".venv",
   "language": "python",
   "name": "python3"
  },
  "language_info": {
   "codemirror_mode": {
    "name": "ipython",
    "version": 3
   },
   "file_extension": ".py",
   "mimetype": "text/x-python",
   "name": "python",
   "nbconvert_exporter": "python",
   "pygments_lexer": "ipython3",
   "version": "3.10.7"
  }
 },
 "nbformat": 4,
 "nbformat_minor": 2
}
