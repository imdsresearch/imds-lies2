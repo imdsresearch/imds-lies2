{
 "cells": [
  {
   "cell_type": "code",
   "execution_count": null,
   "metadata": {},
   "outputs": [],
   "source": [
    "import logging\n",
    "from datetime import datetime\n",
    "\n",
    "current_file_name = \"17_Graphs_and_Charts\"\n",
    "\n",
    "dt_string = datetime.now().strftime(\"%Y%m%d_%H%M%S\")\n",
    "log_file = f\"logs/{current_file_name}/{dt_string}.log\"\n",
    "logging.basicConfig(level=logging.INFO, filename=log_file,filemode=\"w\", format=\"%(asctime)s %(levelname)s %(message)s\")\n",
    "\n",
    "# https://blog.sentry.io/logging-in-python-a-developers-guide/"
   ]
  },
  {
   "cell_type": "code",
   "execution_count": null,
   "metadata": {},
   "outputs": [],
   "source": [
    "import pandas as pd\n",
    "import numpy as np\n",
    "import matplotlib.pyplot as plt\n",
    "import seaborn as sns\n",
    "import os\n",
    "import sys\n",
    "\n",
    "import shap"
   ]
  },
  {
   "cell_type": "code",
   "execution_count": null,
   "metadata": {},
   "outputs": [],
   "source": [
    "from helpers.pages import *\n",
    "from helpers.constants import *\n",
    "from helpers.questions import *\n",
    "from helpers.utils import *\n",
    "from helpers.machine_learning import *"
   ]
  },
  {
   "cell_type": "code",
   "execution_count": null,
   "metadata": {},
   "outputs": [],
   "source": [
    "data_path_base = \"data\\\\17_Graphs_and_Charts\\\\\""
   ]
  },
  {
   "cell_type": "markdown",
   "metadata": {},
   "source": [
    "## Train Test Split"
   ]
  },
  {
   "cell_type": "code",
   "execution_count": null,
   "metadata": {},
   "outputs": [],
   "source": [
    "train_fg_respondents = ['respondent_43', 'respondent_26', 'respondent_35', 'respondent_31', 'respondent_53', 'respondent_21', 'respondent_22', 'respondent_50', 'respondent_42', 'respondent_55', 'respondent_54', 'respondent_16', 'respondent_9', 'respondent_105', 'respondent_37', 'respondent_58', 'respondent_38', 'respondent_51', 'respondent_106', 'respondent_15', 'respondent_52', 'respondent_25', 'respondent_12', 'respondent_56', 'respondent_46', 'respondent_36']\n",
    "train_h_respondents = ['respondent_8', 'respondent_24', 'respondent_42', 'respondent_17', 'respondent_29', 'respondent_108', 'respondent_30', 'respondent_39', 'respondent_58', 'respondent_10', 'respondent_19', 'respondent_53', 'respondent_45', 'respondent_52', 'respondent_33', 'respondent_16', 'respondent_21', 'respondent_32', 'respondent_23', 'respondent_35', 'respondent_47', 'respondent_48', 'respondent_31', 'respondent_20']\n",
    "test_fg_respondents = ['respondent_104', 'respondent_18', 'respondent_34', 'respondent_40', 'respondent_45', 'respondent_48', 'respondent_49']\n",
    "test_h_respondents = ['respondent_107', 'respondent_110', 'respondent_22', 'respondent_27', 'respondent_50', 'respondent_57', 'respondent_9']\n",
    "\n",
    "def remove_prefix_from_list(list, prefix, variant):\n",
    "    return [f\"{variant}_{x.replace(prefix, '')}\" for x in list]\n",
    "\n",
    "train_fg_respondents = remove_prefix_from_list(train_fg_respondents, \"respondent_\", \"FG\")\n",
    "train_h_respondents = remove_prefix_from_list(train_h_respondents, \"respondent_\", \"H\")\n",
    "test_fg_respondents = remove_prefix_from_list(test_fg_respondents, \"respondent_\", \"FG\")\n",
    "test_h_respondents = remove_prefix_from_list(test_h_respondents, \"respondent_\", \"H\")\n",
    "\n",
    "print(len(train_fg_respondents))\n",
    "print(len(train_h_respondents))\n",
    "print(len(test_fg_respondents))\n",
    "print(len(test_h_respondents))"
   ]
  },
  {
   "cell_type": "markdown",
   "metadata": {},
   "source": [
    "## Demography"
   ]
  },
  {
   "cell_type": "code",
   "execution_count": null,
   "metadata": {},
   "outputs": [],
   "source": [
    "demographics = pd.read_excel(\"data\\\\0_Raw_Data\\\\Respondents.xlsx\", sheet_name=\"Prod\")\n",
    "demographics = demographics[[\"Variant\", \"Respondent\", \"Gender\", \"Age\", \"Highest level of education\", \"Current employment status\", \"Input device\"]]"
   ]
  },
  {
   "cell_type": "code",
   "execution_count": null,
   "metadata": {},
   "outputs": [],
   "source": [
    "# Rename columns - translate column names to Slovak\n",
    "demographics = demographics.rename(columns = {\"Variant\": \"Variant\", \"Respondent\": \"Respondent\", \"Gender\": \"Pohlavie\", \"Age\": \"Vek\", \"Highest level of education\": \"Najvyššie dosiahnuté vzdelanie\", \"Current employment status\": \"Aktuálny zamestnanecký status\", \"Input device\": \"Zariadenie\"})"
   ]
  },
  {
   "cell_type": "code",
   "execution_count": null,
   "metadata": {},
   "outputs": [],
   "source": [
    "# Concat variant and respondent to create unique identifier\n",
    "demographics[\"ID\"] = demographics[\"Variant\"] + \"_\" + demographics[\"Respondent\"].astype(str)"
   ]
  },
  {
   "cell_type": "code",
   "execution_count": null,
   "metadata": {},
   "outputs": [],
   "source": [
    "demographics"
   ]
  },
  {
   "cell_type": "code",
   "execution_count": null,
   "metadata": {},
   "outputs": [],
   "source": [
    "# Group ages\n",
    "# Bucket ages into groups\n",
    "age_bins = [18, 30, 40, 50, 60, 70, 80]\n",
    "age_labels = ['18-30', '31-40', '41-50', '51-60', '61-70', '71-80']\n",
    "demographics['Veková skupina'] = pd.cut(demographics['Vek'], bins=age_bins, labels=age_labels, right=False)"
   ]
  },
  {
   "cell_type": "code",
   "execution_count": null,
   "metadata": {},
   "outputs": [],
   "source": [
    "rename_dict = {\n",
    "    \"Male\": \"Muž\",\n",
    "    \"Female\": \"Žena\",\n",
    "    \"Non-binary\": \"Nebinárna osoba\",\n",
    "    \"High School\": \"Stredoškolské\",\n",
    "    \"Bachelor's Degree\": \"Bakalárske\",\n",
    "    \"Master's Degree\": \"Magisterské\",\n",
    "    \"Ph.D. or higher\": \"PhD. a vyššie\",\n",
    "    \"Trade School\": \"Odborné\",\n",
    "    \"Other\": \"Iné\",\n",
    "    \"Employed Full-Time\": \"Plný úväzok\",\n",
    "    \"Employed Part-Time\": \"Čiastočný úväzok\",\n",
    "    \"Seeking opportunities\": \"Nezamesnaný\",\n",
    "    \"Retired\": \"Na dôchodku\",\n",
    "    \"Prefer not to say\": \"Nechcem uviesť\",\n",
    "    \"Mouse\": \"Myš\",\n",
    "    \"Touchpad\": \"Touchpad\",\n",
    "    \"Smartphone Touchscreen\": \"Dotyková obrazovka smartfónu\",\n",
    "    \"Tablet Stylus or Touchscreen\": \"Tabletový stylus alebo dotyková obrazovka\",\n",
    "}\n",
    "\n",
    "demographics = demographics.replace(rename_dict)"
   ]
  },
  {
   "cell_type": "code",
   "execution_count": null,
   "metadata": {},
   "outputs": [],
   "source": [
    "# Custom function to format labels with percentages and respondent counts\n",
    "def autopct_with_counts(pct, values):\n",
    "    total = sum(values)\n",
    "    count = int(pct * total / 100.0)\n",
    "    return f'{pct:.1f}% ({count})'\n",
    "\n",
    "def plot_demographics_pie_chart(demographics_out, path_to_save):\n",
    "    demographics = demographics_out.copy()\n",
    "    \n",
    "    # Set up the figure and axes\n",
    "    fig, axs = plt.subplots(2, 3, figsize=(16, 10))\n",
    "\n",
    "    # Colors for the pie charts\n",
    "    # https://coolors.co/palettes/popular/6%20colors\n",
    "    colors = [\"#6667ab\", \"#f18aad\", \"#ea6759\", \"#f88f58\", \"#f3c65f\", \"#8bc28c\"]\n",
    "\n",
    "    # Plot each pie chart\n",
    "    for ax, column in zip(axs.flatten(), [\"Variant\", \"Pohlavie\", \"Zariadenie\", \"Najvyššie dosiahnuté vzdelanie\", \"Veková skupina\", \"Aktuálny zamestnanecký status\"]):\n",
    "        values = demographics[column].value_counts()\n",
    "        ax.pie(values, labels=values.index, autopct=lambda pct: autopct_with_counts(pct, values), startangle=25, colors=colors,\n",
    "                wedgeprops=dict(width=0.3, edgecolor='w'), explode=[0.05] * len(values + 5), pctdistance=0.45, textprops={'fontsize': 12})\n",
    "        ax.set_title(column, fontsize=16)\n",
    "\n",
    "    # Adjust layout\n",
    "    plt.tight_layout()\n",
    "    plt.subplots_adjust(wspace=0.2, hspace=0.1)\n",
    "\n",
    "    # Save the plot to a file\n",
    "    plt.savefig(path_to_save, bbox_inches='tight')\n",
    "\n",
    "    # Show the plot\n",
    "    plt.show()\n",
    "\n",
    "    # Print mean age and standard deviation\n",
    "    mean_age = demographics[\"Vek\"].mean()\n",
    "    std_age = demographics[\"Vek\"].std()\n",
    "    print(f\"Mean age: {mean_age:.1f}\")\n",
    "    print(f\"Standard deviation: {std_age:.1f}\")"
   ]
  },
  {
   "cell_type": "code",
   "execution_count": null,
   "metadata": {},
   "outputs": [],
   "source": [
    "plot_demographics_pie_chart(demographics, data_path_base + \"0_demographics_pie_charts_all_data.png\")"
   ]
  },
  {
   "cell_type": "code",
   "execution_count": null,
   "metadata": {},
   "outputs": [],
   "source": [
    "# Only FG respondents\n",
    "demographics_fg = demographics[demographics[\"Variant\"] == \"FG\"]\n",
    "plot_demographics_pie_chart(demographics_fg, data_path_base + \"1_demographics_pie_charts_fg.png\")"
   ]
  },
  {
   "cell_type": "code",
   "execution_count": null,
   "metadata": {},
   "outputs": [],
   "source": [
    "# Only H respondents\n",
    "demographics_h = demographics[demographics[\"Variant\"] == \"H\"]\n",
    "plot_demographics_pie_chart(demographics_h, data_path_base + \"2_demographics_pie_charts_h.png\")"
   ]
  },
  {
   "cell_type": "code",
   "execution_count": null,
   "metadata": {},
   "outputs": [],
   "source": [
    "# Train data demographics\n",
    "train_demographics = demographics[demographics[\"ID\"].isin(train_fg_respondents + train_h_respondents)]\n",
    "len(train_demographics)"
   ]
  },
  {
   "cell_type": "code",
   "execution_count": null,
   "metadata": {},
   "outputs": [],
   "source": [
    "plot_demographics_pie_chart(train_demographics, data_path_base + \"3_demographics_pie_charts_train_set.png\")"
   ]
  },
  {
   "cell_type": "code",
   "execution_count": null,
   "metadata": {},
   "outputs": [],
   "source": [
    "# Test data demographics\n",
    "test_demographics = demographics[demographics[\"ID\"].isin(test_fg_respondents + test_h_respondents)]\n",
    "len(test_demographics)"
   ]
  },
  {
   "cell_type": "code",
   "execution_count": null,
   "metadata": {},
   "outputs": [],
   "source": [
    "plot_demographics_pie_chart(test_demographics, data_path_base + \"4_demographics_pie_charts_test_set.png\")"
   ]
  },
  {
   "cell_type": "markdown",
   "metadata": {},
   "source": [
    "## Big 5"
   ]
  },
  {
   "cell_type": "code",
   "execution_count": null,
   "metadata": {},
   "outputs": [],
   "source": [
    "paired_data = pd.read_csv(\"data\\\\4_Pair_UXtweak_and_SurveyJS\\\\4_Pair_UXtweak_and_SurveyJS_data.csv\")"
   ]
  },
  {
   "cell_type": "code",
   "execution_count": null,
   "metadata": {},
   "outputs": [],
   "source": [
    "# Concat group_evaluated and order to create unique identifier\n",
    "paired_data[\"ID\"] = paired_data[\"group_evaluated\"] + \"_\" + paired_data[\"order\"].astype(str)"
   ]
  },
  {
   "cell_type": "code",
   "execution_count": null,
   "metadata": {},
   "outputs": [],
   "source": [
    "paired_data"
   ]
  },
  {
   "cell_type": "code",
   "execution_count": null,
   "metadata": {},
   "outputs": [],
   "source": [
    "paired_data.groupby(\"group_evaluated\").count()"
   ]
  },
  {
   "cell_type": "markdown",
   "metadata": {},
   "source": [
    "### Advanced analytics"
   ]
  },
  {
   "cell_type": "code",
   "execution_count": null,
   "metadata": {},
   "outputs": [],
   "source": [
    "aa_paired_data = paired_data[['group_evaluated',\n",
    " 'total_points',\n",
    " 'mean_points',\n",
    " 'gt_lies',\n",
    " 'gt_half_truths',\n",
    " 'gt_truths',\n",
    " 'mean_points_check',\n",
    " 'bfi2_e',\n",
    " 'bfi2_a',\n",
    " 'bfi2_c',\n",
    " 'bfi2_n',\n",
    " 'bfi2_o',\n",
    " 'bfi2_e_sociability',\n",
    " 'bfi2_e_assertiveness',\n",
    " 'bfi2_e_energy_level',\n",
    " 'bfi2_a_compassion',\n",
    " 'bfi2_a_respectfulness',\n",
    " 'bfi2_a_trust',\n",
    " 'bfi2_c_organization',\n",
    " 'bfi2_c_productiveness',\n",
    " 'bfi2_c_responsibility',\n",
    " 'bfi2_n_anxiety',\n",
    " 'bfi2_n_depression',\n",
    " 'bfi2_n_emotional_volatility',\n",
    " 'bfi2_o_intellectual_curiosity',\n",
    " 'bfi2_o_aesthetic_sensitivity',\n",
    " 'bfi2_o_creative_imagination',]]\n",
    "aa_paired_data"
   ]
  },
  {
   "cell_type": "code",
   "execution_count": null,
   "metadata": {},
   "outputs": [],
   "source": [
    "aa_paired_data[aa_paired_data['group_evaluated'] == \"FG\"].count()"
   ]
  },
  {
   "cell_type": "code",
   "execution_count": null,
   "metadata": {},
   "outputs": [],
   "source": [
    "aa_paired_data['is_fg_group'] = aa_paired_data[\"group_evaluated\"] == \"FG\"\n",
    "aa_paired_data[aa_paired_data['is_fg_group'] == True].count()"
   ]
  },
  {
   "cell_type": "code",
   "execution_count": null,
   "metadata": {},
   "outputs": [],
   "source": [
    "categorical_cols, continuous_cols = detect_categorical_columns(aa_paired_data)\n",
    "categorical_cols"
   ]
  },
  {
   "cell_type": "code",
   "execution_count": null,
   "metadata": {},
   "outputs": [],
   "source": [
    "aa_categorical_features = []\n",
    "aa_target = \"is_fg_group\"\n",
    "aa_remove = [\"group_evaluated\", aa_target, *aa_categorical_features]\n",
    "aa_continuous_features = [f for f in aa_paired_data.columns if f not in aa_remove]\n",
    "aa_continuous_features"
   ]
  },
  {
   "cell_type": "code",
   "execution_count": null,
   "metadata": {},
   "outputs": [],
   "source": [
    "aa_path = 'C:\\\\Users\\\\PeterSmrecek\\\\Documents\\\\DP-Code\\\\data\\\\17_Graphs_and_Charts\\\\aa_big5_paired_data.xlsx'"
   ]
  },
  {
   "cell_type": "code",
   "execution_count": null,
   "metadata": {},
   "outputs": [],
   "source": [
    "calculate_advanced_descriptive_stats(aa_target, aa_continuous_features, aa_categorical_features, aa_paired_data, aa_path)"
   ]
  },
  {
   "cell_type": "code",
   "execution_count": null,
   "metadata": {},
   "outputs": [],
   "source": [
    "def plot_boxplots(data_out, path_to_save):\n",
    "    data = data_out.copy(deep=True)\n",
    "    \n",
    "    # Plot boxplots for each big5 trait and group next to each other\n",
    "\n",
    "    # Invert bfi2_n values\n",
    "    data['bfi2_n'] = 6 - data['bfi2_n']\n",
    "    \n",
    "    # Create figure with 5 subplots\n",
    "    fig, axes = plt.subplots(1, 5, figsize=(14, 8))\n",
    "\n",
    "    # Define colors for each group\n",
    "    palette = {\"FG\": \"#6667ab\", \"H\": \"#f18aad\"}\n",
    "\n",
    "    # Define big5 traits\n",
    "    traits = ['bfi2_e', 'bfi2_a', 'bfi2_c', 'bfi2_n', 'bfi2_o']\n",
    "\n",
    "    # Create boxplots for each big5 trait and group\n",
    "    sns.boxplot(ax=axes[0], x='group_evaluated', y='bfi2_e', data=data, palette=palette, hue='group_evaluated')\n",
    "    sns.boxplot(ax=axes[1], x='group_evaluated', y='bfi2_a', data=data, palette=palette, hue='group_evaluated')\n",
    "    sns.boxplot(ax=axes[2], x='group_evaluated', y='bfi2_c', data=data, palette=palette, hue='group_evaluated')\n",
    "    sns.boxplot(ax=axes[3], x='group_evaluated', y='bfi2_n', data=data, palette=palette, hue='group_evaluated')\n",
    "    sns.boxplot(ax=axes[4], x='group_evaluated', y='bfi2_o', data=data, palette=palette, hue='group_evaluated')\n",
    "\n",
    "    # Set titles\n",
    "    axes[0].set_title('Extraverzia', fontsize=16)\n",
    "    axes[1].set_title('Prívetivosť', fontsize=16)\n",
    "    axes[2].set_title('Svedomitosť', fontsize=16)\n",
    "    axes[3].set_title('Negatívna emocionalita', fontsize=16)\n",
    "    axes[4].set_title('Otvorenosť', fontsize=16)\n",
    "\n",
    "    # Set y-axis limits and remove y-axis labels\n",
    "    for i, ax in enumerate(axes):\n",
    "        ax.set_ylim(0.75, 5.25)\n",
    "        ax.set_ylabel('') # Disable y-axis label\n",
    "        ax.set_xlabel('') # Disable x-axis label\n",
    "        axes[i].tick_params(axis='both', which='major', labelsize=12)  # Set tick labels size to 12\n",
    "\n",
    "        if i != 0:\n",
    "            ax.set_yticks([])  # Disable y-axis ticks for all except the first\n",
    "\n",
    "        # Calculate and annotate metrics\n",
    "        group_metrics = {}\n",
    "        for j, group in enumerate(data['group_evaluated'].unique()):\n",
    "            group_data = data[data['group_evaluated'] == group][traits[i]]\n",
    "            median = group_data.median()\n",
    "            mean = group_data.mean()\n",
    "            q1 = group_data.quantile(0.25)\n",
    "            q3 = group_data.quantile(0.75)\n",
    "            minimum = q1 - 1.5 * (q3 - q1)\n",
    "            maximum = q3 + 1.5 * (q3 - q1)\n",
    "\n",
    "            minimum_sns = max(minimum, group_data.min())\n",
    "            maximum_sns = min(maximum, group_data.max())\n",
    "\n",
    "            if group == \"H\":\n",
    "                group = \"H  \"\n",
    "\n",
    "            group_metrics[group] = {\"Median\": median, \"Mean\": mean, \"Q1\": q1, \"Q3\": q3, \"Min\": minimum_sns, \"Max\": maximum_sns}\n",
    "\n",
    "        combined_text = '   '.join([f\"Median: {metrics['Median']:.2f} \" for group, metrics in group_metrics.items()])\n",
    "        combined_text += '\\n' + '   '.join([f\"Mean: {metrics['Mean']:.2f} \" for group, metrics in group_metrics.items()])\n",
    "        combined_text += '\\n' + '   '.join([f\"Q1: {metrics['Q1']:.2f} \" for group, metrics in group_metrics.items()])\n",
    "        combined_text += '\\n' + '   '.join([f\"Q3: {metrics['Q3']:.2f} \" for group, metrics in group_metrics.items()])\n",
    "        combined_text += '\\n' + '   '.join([f\"Min: {metrics['Min']:.2f} \" for group, metrics in group_metrics.items()])\n",
    "        combined_text += '\\n' + '   '.join([f\"Max: {metrics['Max']:.2f} \" for group, metrics in group_metrics.items()])\n",
    "\n",
    "        axes[i].annotate(combined_text, xy=(0.5, -0.07), xycoords='axes fraction', ha='center', va='top', fontsize=12)\n",
    "\n",
    "    # Adjust layout\n",
    "    plt.tight_layout()\n",
    "\n",
    "    # Save the plot to a file\n",
    "    plt.savefig(path_to_save, bbox_inches='tight')\n",
    "\n",
    "    plt.show()"
   ]
  },
  {
   "cell_type": "code",
   "execution_count": null,
   "metadata": {},
   "outputs": [],
   "source": [
    "plot_boxplots(paired_data, data_path_base + \"5_boxplots_all_data.png\")"
   ]
  },
  {
   "cell_type": "code",
   "execution_count": null,
   "metadata": {},
   "outputs": [],
   "source": [
    "# Train data boxplots\n",
    "train_paired_data = paired_data[paired_data[\"ID\"].isin(train_fg_respondents + train_h_respondents)]\n",
    "len(train_paired_data)"
   ]
  },
  {
   "cell_type": "code",
   "execution_count": null,
   "metadata": {},
   "outputs": [],
   "source": [
    "plot_boxplots(train_paired_data, data_path_base + \"6_boxplots_train_set.png\")"
   ]
  },
  {
   "cell_type": "code",
   "execution_count": null,
   "metadata": {},
   "outputs": [],
   "source": [
    "# Test data boxplots\n",
    "test_paired_data = paired_data[paired_data[\"ID\"].isin(test_fg_respondents + test_h_respondents)]\n",
    "len(test_paired_data)"
   ]
  },
  {
   "cell_type": "code",
   "execution_count": null,
   "metadata": {},
   "outputs": [],
   "source": [
    "plot_boxplots(test_paired_data, data_path_base + \"7_boxplots_test_set.png\")"
   ]
  },
  {
   "cell_type": "markdown",
   "metadata": {},
   "source": [
    "## Lies"
   ]
  },
  {
   "cell_type": "code",
   "execution_count": null,
   "metadata": {},
   "outputs": [],
   "source": [
    "paired_data"
   ]
  },
  {
   "cell_type": "code",
   "execution_count": null,
   "metadata": {},
   "outputs": [],
   "source": [
    "def plot_gt_counts(data_out, path_to_save):\n",
    "    data = data_out.copy(deep=True)\n",
    "\n",
    "    # Plot barplot for each big5 trait and group next to each other\n",
    "\n",
    "    # Create figure with 5 subplots\n",
    "    fig, axes = plt.subplots(1, 3, figsize=(12, 5))\n",
    "\n",
    "    # Define colors for each group\n",
    "    palette = {\"FG\": \"#6667ab\", \"H\": \"#f18aad\"}\n",
    "\n",
    "    # Create barplot for each big5 trait and group\n",
    "    sns.barplot(ax=axes[0], x='group_evaluated', y='gt_lies', data=data, palette=palette, hue='group_evaluated')\n",
    "    sns.barplot(ax=axes[1], x='group_evaluated', y='gt_half_truths', data=data, palette=palette, hue='group_evaluated')\n",
    "    sns.barplot(ax=axes[2], x='group_evaluated', y='gt_truths', data=data, palette=palette, hue='group_evaluated')\n",
    "\n",
    "    # Set titles\n",
    "    axes[0].set_title('Lži', fontsize=16)\n",
    "    axes[1].set_title('Polopravdy', fontsize=16)\n",
    "    axes[2].set_title('Pravdy', fontsize=16)\n",
    "\n",
    "    # Set y-axis limits and remove y-axis labels\n",
    "    for i, ax in enumerate(axes):\n",
    "        ax.set_ylabel('') # Disable y-axis label\n",
    "        ax.set_xlabel('') # Disable x-axis label\n",
    "        axes[i].tick_params(axis='both', which='major', labelsize=12)  # Set tick labels size to 12\n",
    "\n",
    "    # Adjust layout\n",
    "    plt.tight_layout()\n",
    "\n",
    "    # Save the plot to a file\n",
    "    plt.savefig(path_to_save, bbox_inches='tight')\n",
    "\n",
    "    # Show the plot\n",
    "    plt.show()"
   ]
  },
  {
   "cell_type": "code",
   "execution_count": null,
   "metadata": {},
   "outputs": [],
   "source": [
    "plot_gt_counts(paired_data, data_path_base + \"8_gt_counts_all_data.png\")"
   ]
  },
  {
   "cell_type": "code",
   "execution_count": null,
   "metadata": {},
   "outputs": [],
   "source": [
    "plot_gt_counts(train_paired_data, data_path_base + \"9_gt_counts_train_set.png\")"
   ]
  },
  {
   "cell_type": "code",
   "execution_count": null,
   "metadata": {},
   "outputs": [],
   "source": [
    "plot_gt_counts(test_paired_data, data_path_base + \"10_gt_counts_test_set.png\")"
   ]
  },
  {
   "cell_type": "markdown",
   "metadata": {},
   "source": [
    "## Voice metrics"
   ]
  },
  {
   "cell_type": "code",
   "execution_count": null,
   "metadata": {},
   "outputs": [],
   "source": [
    "# Load train and test data\n",
    "voice_metrics_train = pd.read_csv(\"data\\\\12_PDU_Aggregations_and_Models\\\\datasets\\\\20240514_160028_train.csv\")\n",
    "voice_metrics_test = pd.read_csv(\"data\\\\12_PDU_Aggregations_and_Models\\\\datasets\\\\20240514_160028_test.csv\")\n",
    "voice_metrics_preprocessed = pd.concat([voice_metrics_train, voice_metrics_test])"
   ]
  },
  {
   "cell_type": "code",
   "execution_count": null,
   "metadata": {},
   "outputs": [],
   "source": [
    "show_box_boxwithout_hist('indicator_fg', ['word_speach_rate', 'personal_pronoun', 'medianF0Hz'], voice_metrics_preprocessed, kde=True, path_to_save=data_path_base + \"11_boxplots_voice_metrics.png\")"
   ]
  },
  {
   "cell_type": "code",
   "execution_count": null,
   "metadata": {},
   "outputs": [],
   "source": [
    "fig, ax = plt.subplots(figsize=(12, 6))\n",
    "\n",
    "# Remove object columns\n",
    "voice_metrics_preprocessed_matrix_df = voice_metrics_preprocessed.select_dtypes(exclude=['object'])\n",
    "\n",
    "df_corr = voice_metrics_preprocessed_matrix_df[voice_metrics_preprocessed_matrix_df.columns].corr()\n",
    "# Select 5 most correlated features with the target\n",
    "cols = df_corr.nlargest(5, 'indicator_fg')['indicator_fg'].index\n",
    "cm = np.corrcoef(voice_metrics_preprocessed_matrix_df[cols].values.T)\n",
    "hm = sns.heatmap(cm, cbar=True, annot=True, square=True, fmt='.2f', annot_kws={'size': 10}, yticklabels=cols.values, xticklabels=cols.values)\n",
    "plt.savefig(data_path_base + \"12_heatmap_voice_metrics.png\", bbox_inches='tight')\n",
    "plt.show()"
   ]
  },
  {
   "cell_type": "markdown",
   "metadata": {},
   "source": [
    "## Mouse metrics"
   ]
  },
  {
   "cell_type": "code",
   "execution_count": null,
   "metadata": {},
   "outputs": [],
   "source": [
    "# Load train and test data\n",
    "mouse_metrics_train = pd.read_csv(\"data\\\\14_Mouse_Model\\\\datasets\\\\20240514_160051_train.csv\")\n",
    "mouse_metrics_test = pd.read_csv(\"data\\\\14_Mouse_Model\\\\datasets\\\\20240514_160051_test.csv\")\n",
    "mouse_metrics_preprocessed = pd.concat([mouse_metrics_train, mouse_metrics_test])"
   ]
  },
  {
   "cell_type": "code",
   "execution_count": null,
   "metadata": {},
   "outputs": [],
   "source": [
    "show_box_boxwithout_hist('indicator_fg', ['number_of_x_flips', 'distance_y', 'area_difference'], mouse_metrics_preprocessed, kde=True, path_to_save=data_path_base + \"13_boxplots_mouse_metrics.png\")"
   ]
  },
  {
   "cell_type": "code",
   "execution_count": null,
   "metadata": {},
   "outputs": [],
   "source": [
    "fig, ax = plt.subplots(figsize=(12, 6))\n",
    "\n",
    "# Remove object columns\n",
    "mouse_metrics_preprocessed_matrix_df = mouse_metrics_preprocessed.select_dtypes(exclude=['object'])\n",
    "\n",
    "df_corr = mouse_metrics_preprocessed_matrix_df[mouse_metrics_preprocessed_matrix_df.columns].corr()\n",
    "# Select 5 most correlated features with the target\n",
    "cols = df_corr.nlargest(5, 'indicator_fg')['indicator_fg'].index\n",
    "cm = np.corrcoef(mouse_metrics_preprocessed_matrix_df[cols].values.T)\n",
    "hm = sns.heatmap(cm, cbar=True, annot=True, square=True, fmt='.2f', annot_kws={'size': 10}, yticklabels=cols.values, xticklabels=cols.values)\n",
    "plt.savefig(data_path_base + \"14_heatmap_mouse_metrics.png\", bbox_inches='tight')\n",
    "plt.show()"
   ]
  },
  {
   "cell_type": "code",
   "execution_count": null,
   "metadata": {},
   "outputs": [],
   "source": []
  }
 ],
 "metadata": {
  "kernelspec": {
   "display_name": ".venv",
   "language": "python",
   "name": "python3"
  },
  "language_info": {
   "codemirror_mode": {
    "name": "ipython",
    "version": 3
   },
   "file_extension": ".py",
   "mimetype": "text/x-python",
   "name": "python",
   "nbconvert_exporter": "python",
   "pygments_lexer": "ipython3",
   "version": "3.10.7"
  }
 },
 "nbformat": 4,
 "nbformat_minor": 2
}
