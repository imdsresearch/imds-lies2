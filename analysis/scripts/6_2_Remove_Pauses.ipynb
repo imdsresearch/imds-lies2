{
 "cells": [
  {
   "cell_type": "code",
   "execution_count": null,
   "metadata": {},
   "outputs": [],
   "source": [
    "import logging\n",
    "from datetime import datetime\n",
    "\n",
    "current_file_name = \"6_2_Remove_Pauses\"\n",
    "\n",
    "dt_string = datetime.now().strftime(\"%Y%m%d_%H%M%S\")\n",
    "log_file = f\"logs/{current_file_name}/{dt_string}.log\"\n",
    "logging.basicConfig(level=logging.INFO, filename=log_file,filemode=\"w\", format=\"%(asctime)s %(levelname)s %(message)s\")\n",
    "\n",
    "# https://blog.sentry.io/logging-in-python-a-developers-guide/"
   ]
  },
  {
   "cell_type": "code",
   "execution_count": null,
   "metadata": {},
   "outputs": [],
   "source": [
    "from pydub import AudioSegment\n",
    "from pydub.silence import detect_silence\n",
    "import pandas as pd\n",
    "import os"
   ]
  },
  {
   "cell_type": "code",
   "execution_count": null,
   "metadata": {},
   "outputs": [],
   "source": [
    "from helpers.pages import *\n",
    "from helpers.constants import *\n",
    "from helpers.utils import *"
   ]
  },
  {
   "cell_type": "code",
   "execution_count": null,
   "metadata": {},
   "outputs": [],
   "source": [
    "pd.set_option('display.max_columns', 500)"
   ]
  },
  {
   "cell_type": "code",
   "execution_count": null,
   "metadata": {},
   "outputs": [],
   "source": [
    "def get_dict_of_paths(root_path):\n",
    "    # There are folders in the root path named after the respondents\n",
    "    # Each of these folders contains the audio files in aac/wav format\n",
    "    # Create dictionary with the paths to the audio files, where the key is subfolder name and the value is the list of audio files\n",
    "\n",
    "    dict_of_paths = {}\n",
    "    for root, dirs, files in os.walk(root_path):\n",
    "        if len(files) > 0:\n",
    "            # Only keep the audio files\n",
    "            files = [f for f in files if f.endswith('.wav')]\n",
    "            # Full path to the audio files\n",
    "            files = [os.path.join(root, f) for f in files]\n",
    "            \n",
    "            folder_name = root.split(\"\\\\\")[-1]\n",
    "            dict_of_paths[folder_name] = files\n",
    "    return dict_of_paths"
   ]
  },
  {
   "cell_type": "code",
   "execution_count": null,
   "metadata": {},
   "outputs": [],
   "source": [
    "extracted_recordings_fg_path = \"data\\\\6_Elaborations_Extraction\\\\FG\"\n",
    "extracted_recordings_h_path = \"data\\\\6_Elaborations_Extraction\\\\H\""
   ]
  },
  {
   "cell_type": "code",
   "execution_count": null,
   "metadata": {},
   "outputs": [],
   "source": [
    "fg_paths = get_dict_of_paths(extracted_recordings_fg_path)\n",
    "h_paths = get_dict_of_paths(extracted_recordings_h_path)"
   ]
  },
  {
   "cell_type": "code",
   "execution_count": null,
   "metadata": {},
   "outputs": [],
   "source": [
    "@timer\n",
    "def remove_silence_and_save_chunks(input_wav, output_dir, silence_thresh=-50, min_silence_len=2000, padding=100, min_chunk_len=500):\n",
    "    # Create output directory if it doesn't exist\n",
    "    os.makedirs(output_dir, exist_ok=True)\n",
    "    \n",
    "    # Load the audio file\n",
    "    audio = AudioSegment.from_wav(input_wav)\n",
    "    \n",
    "    # Detect silent chunks [(start, end), (start, end), ...]\n",
    "    silent_ranges = detect_silence(audio, min_silence_len=min_silence_len, silence_thresh=silence_thresh)\n",
    "\n",
    "    # Get file name without extension\n",
    "    file_name = os.path.splitext(os.path.basename(input_wav))[0]\n",
    "\n",
    "    # If no silence is detected, just save the original audio as a single chunk if it's long enough\n",
    "    if not silent_ranges:\n",
    "        if len(audio) >= min_chunk_len:\n",
    "            chunk_name = os.path.join(output_dir, f\"{file_name}_chunk_0.wav\")\n",
    "            audio.export(chunk_name, format=\"wav\")\n",
    "            df = pd.DataFrame(columns=[\"chunk_name\", \"start\", \"end\"])\n",
    "            df.loc[0] = [chunk_name, 0, len(audio)]\n",
    "        else:\n",
    "            df = pd.DataFrame(columns=[\"chunk_name\", \"start\", \"end\"])\n",
    "        return df\n",
    "\n",
    "    # Convert silent ranges to start-end pairs with padding\n",
    "    silent_ranges = [(start - padding, end + padding) for start, end in silent_ranges]\n",
    "    silent_ranges = [(max(0, start), min(len(audio), end)) for start, end in silent_ranges]\n",
    "\n",
    "    # Create a DataFrame for the timestamps\n",
    "    df = pd.DataFrame(columns=[\"chunk_name\", \"start\", \"end\"])\n",
    "\n",
    "    # Initialize variables\n",
    "    previous_end = 0\n",
    "    chunk_index = 0\n",
    "\n",
    "    for start, end in silent_ranges:\n",
    "        # Extract non-silent part before the silence\n",
    "        chunk = audio[previous_end:start]\n",
    "        if len(chunk) >= min_chunk_len:\n",
    "            chunk_name = os.path.join(output_dir, f\"{file_name}_chunk_{chunk_index}.wav\")\n",
    "            chunk.export(chunk_name, format=\"wav\")\n",
    "            df.loc[chunk_index] = [chunk_name, previous_end, start]\n",
    "            chunk_index += 1\n",
    "        \n",
    "        previous_end = end\n",
    "    \n",
    "    # Save the last chunk after the last silent segment if it's long enough\n",
    "    chunk = audio[previous_end:]\n",
    "    if len(chunk) >= min_chunk_len:\n",
    "        chunk_name = os.path.join(output_dir, f\"{file_name}_chunk_{chunk_index}.wav\")\n",
    "        chunk.export(chunk_name, format=\"wav\")\n",
    "        df.loc[chunk_index] = [chunk_name, previous_end, len(audio)]\n",
    "\n",
    "    # Save the DataFrame with timestamps\n",
    "    df.to_csv(os.path.join(output_dir, f\"{file_name}_removed_silence_timestamps.csv\"), index=False)\n",
    "\n",
    "    return df"
   ]
  },
  {
   "cell_type": "code",
   "execution_count": null,
   "metadata": {},
   "outputs": [],
   "source": [
    "@timer\n",
    "def process_recordings(dict_of_paths):\n",
    "    for respondent, paths in dict_of_paths.items():\n",
    "        for path in paths:\n",
    "            print(f\"Processing {path}\")\n",
    "            output_dir = path.replace(\"6_Elaborations_Extraction\", current_file_name)[:-4]\n",
    "            os.makedirs(output_dir, exist_ok=True)\n",
    "            df_removed_silence = remove_silence_and_save_chunks(path, output_dir)\n",
    "            logging.info(f\"Removed silence from {path} and saved the chunks in {output_dir}\")"
   ]
  },
  {
   "cell_type": "code",
   "execution_count": null,
   "metadata": {},
   "outputs": [],
   "source": [
    "process_recordings(fg_paths)"
   ]
  },
  {
   "cell_type": "code",
   "execution_count": null,
   "metadata": {},
   "outputs": [],
   "source": [
    "process_recordings(h_paths)"
   ]
  }
 ],
 "metadata": {
  "kernelspec": {
   "display_name": ".venv",
   "language": "python",
   "name": "python3"
  },
  "language_info": {
   "codemirror_mode": {
    "name": "ipython",
    "version": 3
   },
   "file_extension": ".py",
   "mimetype": "text/x-python",
   "name": "python",
   "nbconvert_exporter": "python",
   "pygments_lexer": "ipython3",
   "version": "3.10.7"
  }
 },
 "nbformat": 4,
 "nbformat_minor": 2
}
